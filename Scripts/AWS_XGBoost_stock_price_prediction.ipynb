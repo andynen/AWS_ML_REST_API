{
 "cells": [
  {
   "cell_type": "markdown",
   "id": "d2737a9b-6a59-4574-9b37-22a7fad235b5",
   "metadata": {},
   "source": [
    "# 1) Create a S3 Bucket\n",
    "\n",
    "Use boto3. It is an AWS software development kit (SDK) for python which allows to directly create, update and delete aws resources from a Python environment. It enables the easy integration of various Python application, library, script with AWS services including Amazon S3, Amazon DynamoDB, Amazon EC2, etc..."
   ]
  },
  {
   "cell_type": "code",
   "execution_count": 8,
   "id": "053ca422-0a73-454b-8d2d-c61cb4be6397",
   "metadata": {},
   "outputs": [
    {
     "name": "stdout",
     "output_type": "stream",
     "text": [
      "sagemaker-studio-396913707640-axxlnw5zdgi\n",
      "sagemaker-us-east-1-396913707640\n",
      "stockpricetest-1736740588\n"
     ]
    }
   ],
   "source": [
    "# Import the package\n",
    "import boto3\n",
    "import time\n",
    "\n",
    "# Assign the resource we want to use - in this case \"s3\"\n",
    "s3 = boto3.resource('s3')\n",
    "\n",
    "# print the name of all available buckets in my s3 account.\n",
    "for bucket in s3.buckets.all():\n",
    "    print(bucket.name)"
   ]
  },
  {
   "cell_type": "code",
   "execution_count": 18,
   "id": "eb86c1f1-34cb-42ef-8093-36486ac24128",
   "metadata": {},
   "outputs": [],
   "source": [
    "## Functions to automate tasks - still to integrate working with modules. \n",
    "def create_s3_bucket(base_name):\n",
    "    \"\"\"\n",
    "    Creates an S3 bucket with a unique name by appending a timestamp.\n",
    "\n",
    "    Parameters:\n",
    "        base_name (str): Base name for the bucket.\n",
    "\n",
    "    Returns:\n",
    "        str: The name of the created bucket or an error message.\n",
    "    \"\"\"\n",
    "    # Generate a unique bucket name\n",
    "    bucket_name = f\"{base_name}-{int(time.time())}\"\n",
    "    \n",
    "    # Create the S3 client\n",
    "    s3 = boto3.resource('s3')\n",
    "    \n",
    "    try:\n",
    "        # Create the bucket\n",
    "        s3.create_bucket(\n",
    "            Bucket=bucket_name   )\n",
    "        print(f\"S3 bucket '{bucket_name}' has been created successfully.\")\n",
    "        return bucket_name\n",
    "    except Exception as e:\n",
    "        print(f\"S3 error: {e}\")\n",
    "        return None"
   ]
  },
  {
   "cell_type": "code",
   "execution_count": 7,
   "id": "b13772b2-0c88-45ab-84bf-2287175d7abe",
   "metadata": {},
   "outputs": [
    {
     "name": "stdout",
     "output_type": "stream",
     "text": [
      "S3 bucket has been created successfully\n"
     ]
    }
   ],
   "source": [
    "# Give the bucket a unique name as no user can have the same bucket name globally\n",
    "# Note: the bucket name should be between 3 and 63 characters long, always start with a lower letters, cannot contain underscode\n",
    "# More info here https://docs.aws.amazon.com/workdocs/latest/userguide/client-name-files.html \n",
    "buck_name = 'stockpricetest'\n",
    "create_s3_bucket( base_name = buck_name )\n",
    "\n"
   ]
  },
  {
   "cell_type": "markdown",
   "id": "93e861d7-265e-48d2-bcba-228211ea76ce",
   "metadata": {},
   "source": [
    "# 2) Data download \n",
    "Download data from the yfinance package which is not installed in boto3"
   ]
  },
  {
   "cell_type": "code",
   "execution_count": 44,
   "id": "34cd2dba-9c34-4a0a-9f83-e1bcca21c033",
   "metadata": {},
   "outputs": [
    {
     "name": "stderr",
     "output_type": "stream",
     "text": [
      "[*********************100%***********************]  1 of 1 completed\n"
     ]
    },
    {
     "data": {
      "text/html": [
       "<div>\n",
       "<style scoped>\n",
       "    .dataframe tbody tr th:only-of-type {\n",
       "        vertical-align: middle;\n",
       "    }\n",
       "\n",
       "    .dataframe tbody tr th {\n",
       "        vertical-align: top;\n",
       "    }\n",
       "\n",
       "    .dataframe thead tr th {\n",
       "        text-align: left;\n",
       "    }\n",
       "</style>\n",
       "<table border=\"1\" class=\"dataframe\">\n",
       "  <thead>\n",
       "    <tr>\n",
       "      <th>Price</th>\n",
       "      <th>Date</th>\n",
       "      <th>Close</th>\n",
       "      <th>High</th>\n",
       "      <th>Low</th>\n",
       "      <th>Open</th>\n",
       "      <th>Volume</th>\n",
       "    </tr>\n",
       "    <tr>\n",
       "      <th>Ticker</th>\n",
       "      <th></th>\n",
       "      <th>AAPL</th>\n",
       "      <th>AAPL</th>\n",
       "      <th>AAPL</th>\n",
       "      <th>AAPL</th>\n",
       "      <th>AAPL</th>\n",
       "    </tr>\n",
       "  </thead>\n",
       "  <tbody>\n",
       "    <tr>\n",
       "      <th>0</th>\n",
       "      <td>2019-01-02</td>\n",
       "      <td>37.708595</td>\n",
       "      <td>37.930665</td>\n",
       "      <td>36.827486</td>\n",
       "      <td>36.985083</td>\n",
       "      <td>148158800</td>\n",
       "    </tr>\n",
       "    <tr>\n",
       "      <th>1</th>\n",
       "      <td>2019-01-03</td>\n",
       "      <td>33.952534</td>\n",
       "      <td>34.795437</td>\n",
       "      <td>33.907164</td>\n",
       "      <td>34.379953</td>\n",
       "      <td>365248800</td>\n",
       "    </tr>\n",
       "    <tr>\n",
       "      <th>2</th>\n",
       "      <td>2019-01-04</td>\n",
       "      <td>35.401951</td>\n",
       "      <td>35.471200</td>\n",
       "      <td>34.336981</td>\n",
       "      <td>34.511292</td>\n",
       "      <td>234428400</td>\n",
       "    </tr>\n",
       "    <tr>\n",
       "      <th>3</th>\n",
       "      <td>2019-01-07</td>\n",
       "      <td>35.323162</td>\n",
       "      <td>35.538069</td>\n",
       "      <td>34.838433</td>\n",
       "      <td>35.507026</td>\n",
       "      <td>219111200</td>\n",
       "    </tr>\n",
       "    <tr>\n",
       "      <th>4</th>\n",
       "      <td>2019-01-08</td>\n",
       "      <td>35.996529</td>\n",
       "      <td>36.252028</td>\n",
       "      <td>35.464044</td>\n",
       "      <td>35.712376</td>\n",
       "      <td>164101200</td>\n",
       "    </tr>\n",
       "    <tr>\n",
       "      <th>...</th>\n",
       "      <td>...</td>\n",
       "      <td>...</td>\n",
       "      <td>...</td>\n",
       "      <td>...</td>\n",
       "      <td>...</td>\n",
       "      <td>...</td>\n",
       "    </tr>\n",
       "    <tr>\n",
       "      <th>500</th>\n",
       "      <td>2020-12-24</td>\n",
       "      <td>129.047501</td>\n",
       "      <td>130.504510</td>\n",
       "      <td>128.196772</td>\n",
       "      <td>128.411901</td>\n",
       "      <td>54930100</td>\n",
       "    </tr>\n",
       "    <tr>\n",
       "      <th>501</th>\n",
       "      <td>2020-12-28</td>\n",
       "      <td>133.663025</td>\n",
       "      <td>134.298625</td>\n",
       "      <td>130.553438</td>\n",
       "      <td>131.022819</td>\n",
       "      <td>124486200</td>\n",
       "    </tr>\n",
       "    <tr>\n",
       "      <th>502</th>\n",
       "      <td>2020-12-29</td>\n",
       "      <td>131.883270</td>\n",
       "      <td>135.716459</td>\n",
       "      <td>131.365008</td>\n",
       "      <td>134.992856</td>\n",
       "      <td>121047300</td>\n",
       "    </tr>\n",
       "    <tr>\n",
       "      <th>503</th>\n",
       "      <td>2020-12-30</td>\n",
       "      <td>130.758774</td>\n",
       "      <td>132.978509</td>\n",
       "      <td>130.445853</td>\n",
       "      <td>132.577585</td>\n",
       "      <td>96452100</td>\n",
       "    </tr>\n",
       "    <tr>\n",
       "      <th>504</th>\n",
       "      <td>2020-12-31</td>\n",
       "      <td>129.751587</td>\n",
       "      <td>131.756193</td>\n",
       "      <td>128.803066</td>\n",
       "      <td>131.110805</td>\n",
       "      <td>99116600</td>\n",
       "    </tr>\n",
       "  </tbody>\n",
       "</table>\n",
       "<p>505 rows × 6 columns</p>\n",
       "</div>"
      ],
      "text/plain": [
       "Price        Date       Close        High         Low        Open     Volume\n",
       "Ticker                   AAPL        AAPL        AAPL        AAPL       AAPL\n",
       "0      2019-01-02   37.708595   37.930665   36.827486   36.985083  148158800\n",
       "1      2019-01-03   33.952534   34.795437   33.907164   34.379953  365248800\n",
       "2      2019-01-04   35.401951   35.471200   34.336981   34.511292  234428400\n",
       "3      2019-01-07   35.323162   35.538069   34.838433   35.507026  219111200\n",
       "4      2019-01-08   35.996529   36.252028   35.464044   35.712376  164101200\n",
       "..            ...         ...         ...         ...         ...        ...\n",
       "500    2020-12-24  129.047501  130.504510  128.196772  128.411901   54930100\n",
       "501    2020-12-28  133.663025  134.298625  130.553438  131.022819  124486200\n",
       "502    2020-12-29  131.883270  135.716459  131.365008  134.992856  121047300\n",
       "503    2020-12-30  130.758774  132.978509  130.445853  132.577585   96452100\n",
       "504    2020-12-31  129.751587  131.756193  128.803066  131.110805   99116600\n",
       "\n",
       "[505 rows x 6 columns]"
      ]
     },
     "execution_count": 44,
     "metadata": {},
     "output_type": "execute_result"
    }
   ],
   "source": [
    "#!pip install yfinance\n",
    "\n",
    "import pandas as pd\n",
    "from datetime import datetime\n",
    "import yfinance as yf\n",
    "\n",
    "# initialise parameters\n",
    "start_date = datetime( 2019, 1, 1)\n",
    "end_date = datetime( 2021, 1, 1)\n",
    "\n",
    "# get the data \n",
    "df_data = yf.download( 'AAPL', start = start_date, end = end_date)\n",
    "df_data.reset_index(inplace = True)\n",
    "\n",
    "df_data"
   ]
  },
  {
   "cell_type": "markdown",
   "id": "06cc9324-36da-4ed1-af65-34d0799ec0a8",
   "metadata": {},
   "source": [
    "# 3) Extract, Load & Transform\n",
    "Carry out data cleaning. \n",
    "\n",
    "The columns of the data have multiIndices due to column labels Price and Ticker. There is a main title for the column and a subtitle as well. Run \"df_data.columns\" to see the structure of the MultiIndex. \n",
    "\n"
   ]
  },
  {
   "cell_type": "code",
   "execution_count": 45,
   "id": "0dc19ea2-fc68-469d-9134-d24a0383ad8d",
   "metadata": {},
   "outputs": [
    {
     "name": "stdout",
     "output_type": "stream",
     "text": [
      "MultiIndex([(  'Date',     ''),\n",
      "            ( 'Close', 'AAPL'),\n",
      "            (  'High', 'AAPL'),\n",
      "            (   'Low', 'AAPL'),\n",
      "            (  'Open', 'AAPL'),\n",
      "            ('Volume', 'AAPL')],\n",
      "           names=['Price', 'Ticker'])\n",
      "Index(['Date_', 'Close_AAPL', 'High_AAPL', 'Low_AAPL', 'Open_AAPL',\n",
      "       'Volume_AAPL'],\n",
      "      dtype='object')\n",
      "Index(['Close_AAPL', 'High_AAPL', 'Low_AAPL', 'Open_AAPL', 'Volume_AAPL'], dtype='object')\n"
     ]
    }
   ],
   "source": [
    "print(df_data.columns)\n",
    "\n",
    "#Flatten the MultiIndex to work with a single-level column index. \n",
    "df_data.columns = ['_'.join(col).strip() for col in df_data.columns.values]\n",
    "print(df_data.columns)\n",
    "\n",
    "# Drop features that are not important for this tutorial as they do not influence the stock price much\n",
    "df_data.drop( columns = ['Date_'], axis = 1, inplace = True)\n",
    "print(df_data.columns)\n",
    "\n",
    "# Extract the features\n",
    "df_data_features = df_data.iloc[ :-1, :]  # This excludes the last sample from the data to consider the remaining as our features. \n",
    "print( df_data_features )\n",
    "\n",
    "# Take the open price column as our target \n",
    "df_data_targets = df_data.iloc[ 1:, 3].rename( \"Targets\" )\n",
    "print( df_data_targets )"
   ]
  },
  {
   "cell_type": "code",
   "execution_count": null,
   "id": "ef9e5abf-e3e6-4a8d-bb8e-0afc23d43477",
   "metadata": {},
   "outputs": [],
   "source": []
  }
 ],
 "metadata": {
  "kernelspec": {
   "display_name": "conda_python3",
   "language": "python",
   "name": "conda_python3"
  },
  "language_info": {
   "codemirror_mode": {
    "name": "ipython",
    "version": 3
   },
   "file_extension": ".py",
   "mimetype": "text/x-python",
   "name": "python",
   "nbconvert_exporter": "python",
   "pygments_lexer": "ipython3",
   "version": "3.10.16"
  }
 },
 "nbformat": 4,
 "nbformat_minor": 5
}
