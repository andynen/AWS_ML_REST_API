{
 "cells": [
  {
   "cell_type": "markdown",
   "id": "d2737a9b-6a59-4574-9b37-22a7fad235b5",
   "metadata": {},
   "source": [
    "Develop an XGBoost model in AWS to predict the Stock Price and deploy it using API.\n",
    "==============\n",
    "\n",
    "# I) Build and train an Amazon SageMaker model\n",
    "\n",
    "## I.1) Create a S3 Bucket\n",
    "\n",
    "Use boto3. It is an AWS software development kit (SDK) for python which allows to directly create, update and delete aws resources from a Python environment. It enables the easy integration of various Python application, library, script with AWS services including Amazon S3, Amazon DynamoDB, Amazon EC2, etc..."
   ]
  },
  {
   "cell_type": "code",
   "execution_count": 147,
   "id": "053ca422-0a73-454b-8d2d-c61cb4be6397",
   "metadata": {},
   "outputs": [
    {
     "name": "stdout",
     "output_type": "stream",
     "text": [
      "sagemaker-studio-396913707640-axxlnw5zdgi\n",
      "sagemaker-us-east-1-396913707640\n",
      "stockpricetest-1736740588\n",
      "stockpricetest-1736741958\n",
      "stockpricetest-1736741960\n"
     ]
    }
   ],
   "source": [
    "# Import the package\n",
    "import boto3\n",
    "import time\n",
    "\n",
    "# Assign the resource we want to use - in this case \"s3\"\n",
    "s3 = boto3.resource('s3')\n",
    "\n",
    "# print the name of all available buckets in my s3 account.\n",
    "for bucket in s3.buckets.all():\n",
    "    print(bucket.name)"
   ]
  },
  {
   "cell_type": "code",
   "execution_count": 148,
   "id": "eb86c1f1-34cb-42ef-8093-36486ac24128",
   "metadata": {},
   "outputs": [],
   "source": [
    "## Functions to automate tasks - still to integrate working with modules. \n",
    "\n",
    "def create_s3_bucket(base_name, unikey = int( 1736741958 ) ):  #unikey could be int(time.time())\n",
    "    \"\"\"\n",
    "    Creates an S3 bucket with a unique name by appending a timestamp.\n",
    "\n",
    "    Parameters:\n",
    "        base_name (str): Base name for the bucket.\n",
    "\n",
    "    Returns:\n",
    "        str: The name of the created bucket or an error message.\n",
    "    \"\"\"\n",
    "    # Generate a unique bucket name\n",
    "    bucket_name = f\"{base_name}-{unikey}\"\n",
    "    \n",
    "    # Create the S3 client\n",
    "    s3 = boto3.resource('s3')\n",
    "    \n",
    "    try:\n",
    "        # Create the bucket\n",
    "        s3.create_bucket(\n",
    "            Bucket=bucket_name   )\n",
    "        print(f\"S3 bucket '{bucket_name}' has been created successfully.\")\n",
    "        return bucket_name\n",
    "    except Exception as e:\n",
    "        print(f\"S3 error: {e}\")\n",
    "        return None\n",
    "\n",
    "def flatten_columns(df):\n",
    "    \"\"\"\n",
    "    Flattens a MultiIndex DataFrame to a single-level column index.\n",
    "\n",
    "    Parameters:\n",
    "    df (pd.DataFrame): The input DataFrame with MultiIndex columns.\n",
    "\n",
    "    Returns:\n",
    "    pd.DataFrame: DataFrame with single-level column index.\n",
    "    \"\"\"\n",
    "    df.columns = ['_'.join(col).strip() for col in df.columns.values]\n",
    "    return df\n",
    "\n",
    "def drop_unimportant_features(df, columns_to_drop):\n",
    "    \"\"\"\n",
    "    Drops specified columns from the DataFrame.\n",
    "\n",
    "    Parameters:\n",
    "    df (pd.DataFrame): The input DataFrame.\n",
    "    columns_to_drop (list): List of column names to drop.\n",
    "\n",
    "    Returns:\n",
    "    pd.DataFrame: DataFrame with specified columns removed.\n",
    "    \"\"\"\n",
    "    df.drop(columns=columns_to_drop, axis=1, inplace=True)\n",
    "    return df\n",
    "\n",
    "def move_column_to_first(df, column_name):\n",
    "    \"\"\"\n",
    "    Moves a specified column to the first position in the DataFrame.\n",
    "\n",
    "    Parameters:\n",
    "    df (pd.DataFrame): The input DataFrame.\n",
    "    column_name (str): The name of the column to move.\n",
    "\n",
    "    Returns:\n",
    "    pd.DataFrame: DataFrame with the specified column moved to the first position.\n",
    "    \"\"\"\n",
    "    first_column = df.pop(column_name)\n",
    "    df.insert(0, column_name, first_column)\n",
    "    return df\n"
   ]
  },
  {
   "cell_type": "code",
   "execution_count": 149,
   "id": "b13772b2-0c88-45ab-84bf-2287175d7abe",
   "metadata": {},
   "outputs": [
    {
     "name": "stdout",
     "output_type": "stream",
     "text": [
      "S3 bucket 'stockpricetest-1736741960' has been created successfully.\n"
     ]
    }
   ],
   "source": [
    "# Give the bucket a unique name as no user can have the same bucket name globally\n",
    "# Note: the bucket name should be between 3 and 63 characters long, always start with a lower letters, cannot contain underscode\n",
    "# More info here https://docs.aws.amazon.com/workdocs/latest/userguide/client-name-files.html \n",
    "# Note that you can also create the bucket manually through the Amazon S3 tool. \n",
    "buck_name = 'stockpricetest'\n",
    "bucket_name = create_s3_bucket( base_name = buck_name, unikey = int( 1736741960 ) )"
   ]
  },
  {
   "cell_type": "markdown",
   "id": "93e861d7-265e-48d2-bcba-228211ea76ce",
   "metadata": {},
   "source": [
    "## I.2) Data Extract, Load & Transform\n",
    "Download data from the yfinance package which is not installed in boto3"
   ]
  },
  {
   "cell_type": "code",
   "execution_count": 167,
   "id": "34cd2dba-9c34-4a0a-9f83-e1bcca21c033",
   "metadata": {},
   "outputs": [
    {
     "name": "stderr",
     "output_type": "stream",
     "text": [
      "[*********************100%***********************]  1 of 1 completed\n"
     ]
    },
    {
     "data": {
      "text/html": [
       "<div>\n",
       "<style scoped>\n",
       "    .dataframe tbody tr th:only-of-type {\n",
       "        vertical-align: middle;\n",
       "    }\n",
       "\n",
       "    .dataframe tbody tr th {\n",
       "        vertical-align: top;\n",
       "    }\n",
       "\n",
       "    .dataframe thead tr th {\n",
       "        text-align: left;\n",
       "    }\n",
       "</style>\n",
       "<table border=\"1\" class=\"dataframe\">\n",
       "  <thead>\n",
       "    <tr>\n",
       "      <th>Price</th>\n",
       "      <th>Date</th>\n",
       "      <th>Close</th>\n",
       "      <th>High</th>\n",
       "      <th>Low</th>\n",
       "      <th>Open</th>\n",
       "      <th>Volume</th>\n",
       "    </tr>\n",
       "    <tr>\n",
       "      <th>Ticker</th>\n",
       "      <th></th>\n",
       "      <th>AAPL</th>\n",
       "      <th>AAPL</th>\n",
       "      <th>AAPL</th>\n",
       "      <th>AAPL</th>\n",
       "      <th>AAPL</th>\n",
       "    </tr>\n",
       "  </thead>\n",
       "  <tbody>\n",
       "    <tr>\n",
       "      <th>0</th>\n",
       "      <td>2019-01-02</td>\n",
       "      <td>37.708595</td>\n",
       "      <td>37.930665</td>\n",
       "      <td>36.827486</td>\n",
       "      <td>36.985083</td>\n",
       "      <td>148158800</td>\n",
       "    </tr>\n",
       "    <tr>\n",
       "      <th>1</th>\n",
       "      <td>2019-01-03</td>\n",
       "      <td>33.952534</td>\n",
       "      <td>34.795437</td>\n",
       "      <td>33.907164</td>\n",
       "      <td>34.379953</td>\n",
       "      <td>365248800</td>\n",
       "    </tr>\n",
       "    <tr>\n",
       "      <th>2</th>\n",
       "      <td>2019-01-04</td>\n",
       "      <td>35.401951</td>\n",
       "      <td>35.471200</td>\n",
       "      <td>34.336981</td>\n",
       "      <td>34.511292</td>\n",
       "      <td>234428400</td>\n",
       "    </tr>\n",
       "    <tr>\n",
       "      <th>3</th>\n",
       "      <td>2019-01-07</td>\n",
       "      <td>35.323162</td>\n",
       "      <td>35.538069</td>\n",
       "      <td>34.838433</td>\n",
       "      <td>35.507026</td>\n",
       "      <td>219111200</td>\n",
       "    </tr>\n",
       "    <tr>\n",
       "      <th>4</th>\n",
       "      <td>2019-01-08</td>\n",
       "      <td>35.996529</td>\n",
       "      <td>36.252028</td>\n",
       "      <td>35.464044</td>\n",
       "      <td>35.712376</td>\n",
       "      <td>164101200</td>\n",
       "    </tr>\n",
       "    <tr>\n",
       "      <th>...</th>\n",
       "      <td>...</td>\n",
       "      <td>...</td>\n",
       "      <td>...</td>\n",
       "      <td>...</td>\n",
       "      <td>...</td>\n",
       "      <td>...</td>\n",
       "    </tr>\n",
       "    <tr>\n",
       "      <th>500</th>\n",
       "      <td>2020-12-24</td>\n",
       "      <td>129.047501</td>\n",
       "      <td>130.504510</td>\n",
       "      <td>128.196772</td>\n",
       "      <td>128.411901</td>\n",
       "      <td>54930100</td>\n",
       "    </tr>\n",
       "    <tr>\n",
       "      <th>501</th>\n",
       "      <td>2020-12-28</td>\n",
       "      <td>133.663025</td>\n",
       "      <td>134.298625</td>\n",
       "      <td>130.553438</td>\n",
       "      <td>131.022819</td>\n",
       "      <td>124486200</td>\n",
       "    </tr>\n",
       "    <tr>\n",
       "      <th>502</th>\n",
       "      <td>2020-12-29</td>\n",
       "      <td>131.883270</td>\n",
       "      <td>135.716459</td>\n",
       "      <td>131.365008</td>\n",
       "      <td>134.992856</td>\n",
       "      <td>121047300</td>\n",
       "    </tr>\n",
       "    <tr>\n",
       "      <th>503</th>\n",
       "      <td>2020-12-30</td>\n",
       "      <td>130.758774</td>\n",
       "      <td>132.978509</td>\n",
       "      <td>130.445853</td>\n",
       "      <td>132.577585</td>\n",
       "      <td>96452100</td>\n",
       "    </tr>\n",
       "    <tr>\n",
       "      <th>504</th>\n",
       "      <td>2020-12-31</td>\n",
       "      <td>129.751587</td>\n",
       "      <td>131.756193</td>\n",
       "      <td>128.803066</td>\n",
       "      <td>131.110805</td>\n",
       "      <td>99116600</td>\n",
       "    </tr>\n",
       "  </tbody>\n",
       "</table>\n",
       "<p>505 rows × 6 columns</p>\n",
       "</div>"
      ],
      "text/plain": [
       "Price        Date       Close        High         Low        Open     Volume\n",
       "Ticker                   AAPL        AAPL        AAPL        AAPL       AAPL\n",
       "0      2019-01-02   37.708595   37.930665   36.827486   36.985083  148158800\n",
       "1      2019-01-03   33.952534   34.795437   33.907164   34.379953  365248800\n",
       "2      2019-01-04   35.401951   35.471200   34.336981   34.511292  234428400\n",
       "3      2019-01-07   35.323162   35.538069   34.838433   35.507026  219111200\n",
       "4      2019-01-08   35.996529   36.252028   35.464044   35.712376  164101200\n",
       "..            ...         ...         ...         ...         ...        ...\n",
       "500    2020-12-24  129.047501  130.504510  128.196772  128.411901   54930100\n",
       "501    2020-12-28  133.663025  134.298625  130.553438  131.022819  124486200\n",
       "502    2020-12-29  131.883270  135.716459  131.365008  134.992856  121047300\n",
       "503    2020-12-30  130.758774  132.978509  130.445853  132.577585   96452100\n",
       "504    2020-12-31  129.751587  131.756193  128.803066  131.110805   99116600\n",
       "\n",
       "[505 rows x 6 columns]"
      ]
     },
     "execution_count": 167,
     "metadata": {},
     "output_type": "execute_result"
    }
   ],
   "source": [
    "#!pip install yfinance\n",
    "\n",
    "import pandas as pd\n",
    "from datetime import datetime\n",
    "import yfinance as yf\n",
    "\n",
    "# initialise parameters\n",
    "start_date = datetime( 2019, 1, 1)\n",
    "end_date = datetime( 2021, 1, 1)\n",
    "\n",
    "# get the data \n",
    "df_data = yf.download( 'AAPL', start = start_date, end = end_date)\n",
    "df_data.reset_index(inplace = True)\n",
    "\n",
    "df_data"
   ]
  },
  {
   "cell_type": "markdown",
   "id": "06cc9324-36da-4ed1-af65-34d0799ec0a8",
   "metadata": {},
   "source": [
    "Carry out data cleaning & transformation. \n",
    "\n",
    "The columns of the data have multiIndices due to column labels Price and Ticker. There is a main title for the column and a subtitle as well. Run \"df_data.columns\" to see the structure of the MultiIndex. "
   ]
  },
  {
   "cell_type": "code",
   "execution_count": 168,
   "id": "efe909d2-1119-4d6d-bd65-88e57978e980",
   "metadata": {},
   "outputs": [
    {
     "name": "stdout",
     "output_type": "stream",
     "text": [
      "MultiIndex([(  'Date',     ''),\n",
      "            ( 'Close', 'AAPL'),\n",
      "            (  'High', 'AAPL'),\n",
      "            (   'Low', 'AAPL'),\n",
      "            (  'Open', 'AAPL'),\n",
      "            ('Volume', 'AAPL')],\n",
      "           names=['Price', 'Ticker'])\n",
      "Index(['Date_', 'Close_AAPL', 'High_AAPL', 'Low_AAPL', 'Open_AAPL',\n",
      "       'Volume_AAPL'],\n",
      "      dtype='object')\n",
      "Index(['Close_AAPL', 'High_AAPL', 'Low_AAPL', 'Open_AAPL', 'Volume_AAPL'], dtype='object')\n",
      "     Close_AAPL   High_AAPL    Low_AAPL   Open_AAPL  Volume_AAPL\n",
      "0     37.708595   37.930665   36.827486   36.985083    148158800\n",
      "1     33.952534   34.795437   33.907164   34.379953    365248800\n",
      "2     35.401951   35.471200   34.336981   34.511292    234428400\n",
      "3     35.323162   35.538069   34.838433   35.507026    219111200\n",
      "4     35.996529   36.252028   35.464044   35.712376    164101200\n",
      "..          ...         ...         ...         ...          ...\n",
      "499  128.059906  129.497339  127.883884  129.233329     88223700\n",
      "500  129.047501  130.504510  128.196772  128.411901     54930100\n",
      "501  133.663025  134.298625  130.553438  131.022819    124486200\n",
      "502  131.883270  135.716459  131.365008  134.992856    121047300\n",
      "503  130.758774  132.978509  130.445853  132.577585     96452100\n",
      "\n",
      "[504 rows x 5 columns]\n",
      "1       34.379953\n",
      "2       34.511292\n",
      "3       35.507026\n",
      "4       35.712376\n",
      "5       36.125461\n",
      "          ...    \n",
      "500    128.411901\n",
      "501    131.022819\n",
      "502    134.992856\n",
      "503    132.577585\n",
      "504    131.110805\n",
      "Name: Targets, Length: 504, dtype: float64\n"
     ]
    },
    {
     "name": "stderr",
     "output_type": "stream",
     "text": [
      "/tmp/ipykernel_18365/3810022124.py:20: SettingWithCopyWarning: \n",
      "A value is trying to be set on a copy of a slice from a DataFrame.\n",
      "Try using .loc[row_indexer,col_indexer] = value instead\n",
      "\n",
      "See the caveats in the documentation: https://pandas.pydata.org/pandas-docs/stable/user_guide/indexing.html#returning-a-view-versus-a-copy\n",
      "  df_data_features[ 'Target' ] =  list( df_data_targets )\n"
     ]
    },
    {
     "data": {
      "text/html": [
       "<div>\n",
       "<style scoped>\n",
       "    .dataframe tbody tr th:only-of-type {\n",
       "        vertical-align: middle;\n",
       "    }\n",
       "\n",
       "    .dataframe tbody tr th {\n",
       "        vertical-align: top;\n",
       "    }\n",
       "\n",
       "    .dataframe thead th {\n",
       "        text-align: right;\n",
       "    }\n",
       "</style>\n",
       "<table border=\"1\" class=\"dataframe\">\n",
       "  <thead>\n",
       "    <tr style=\"text-align: right;\">\n",
       "      <th></th>\n",
       "      <th>Target</th>\n",
       "      <th>Close_AAPL</th>\n",
       "      <th>High_AAPL</th>\n",
       "      <th>Low_AAPL</th>\n",
       "      <th>Open_AAPL</th>\n",
       "      <th>Volume_AAPL</th>\n",
       "    </tr>\n",
       "  </thead>\n",
       "  <tbody>\n",
       "    <tr>\n",
       "      <th>0</th>\n",
       "      <td>34.379953</td>\n",
       "      <td>37.708595</td>\n",
       "      <td>37.930665</td>\n",
       "      <td>36.827486</td>\n",
       "      <td>36.985083</td>\n",
       "      <td>148158800</td>\n",
       "    </tr>\n",
       "    <tr>\n",
       "      <th>1</th>\n",
       "      <td>34.511292</td>\n",
       "      <td>33.952534</td>\n",
       "      <td>34.795437</td>\n",
       "      <td>33.907164</td>\n",
       "      <td>34.379953</td>\n",
       "      <td>365248800</td>\n",
       "    </tr>\n",
       "    <tr>\n",
       "      <th>2</th>\n",
       "      <td>35.507026</td>\n",
       "      <td>35.401951</td>\n",
       "      <td>35.471200</td>\n",
       "      <td>34.336981</td>\n",
       "      <td>34.511292</td>\n",
       "      <td>234428400</td>\n",
       "    </tr>\n",
       "    <tr>\n",
       "      <th>3</th>\n",
       "      <td>35.712376</td>\n",
       "      <td>35.323162</td>\n",
       "      <td>35.538069</td>\n",
       "      <td>34.838433</td>\n",
       "      <td>35.507026</td>\n",
       "      <td>219111200</td>\n",
       "    </tr>\n",
       "    <tr>\n",
       "      <th>4</th>\n",
       "      <td>36.125461</td>\n",
       "      <td>35.996529</td>\n",
       "      <td>36.252028</td>\n",
       "      <td>35.464044</td>\n",
       "      <td>35.712376</td>\n",
       "      <td>164101200</td>\n",
       "    </tr>\n",
       "    <tr>\n",
       "      <th>...</th>\n",
       "      <td>...</td>\n",
       "      <td>...</td>\n",
       "      <td>...</td>\n",
       "      <td>...</td>\n",
       "      <td>...</td>\n",
       "      <td>...</td>\n",
       "    </tr>\n",
       "    <tr>\n",
       "      <th>499</th>\n",
       "      <td>128.411901</td>\n",
       "      <td>128.059906</td>\n",
       "      <td>129.497339</td>\n",
       "      <td>127.883884</td>\n",
       "      <td>129.233329</td>\n",
       "      <td>88223700</td>\n",
       "    </tr>\n",
       "    <tr>\n",
       "      <th>500</th>\n",
       "      <td>131.022819</td>\n",
       "      <td>129.047501</td>\n",
       "      <td>130.504510</td>\n",
       "      <td>128.196772</td>\n",
       "      <td>128.411901</td>\n",
       "      <td>54930100</td>\n",
       "    </tr>\n",
       "    <tr>\n",
       "      <th>501</th>\n",
       "      <td>134.992856</td>\n",
       "      <td>133.663025</td>\n",
       "      <td>134.298625</td>\n",
       "      <td>130.553438</td>\n",
       "      <td>131.022819</td>\n",
       "      <td>124486200</td>\n",
       "    </tr>\n",
       "    <tr>\n",
       "      <th>502</th>\n",
       "      <td>132.577585</td>\n",
       "      <td>131.883270</td>\n",
       "      <td>135.716459</td>\n",
       "      <td>131.365008</td>\n",
       "      <td>134.992856</td>\n",
       "      <td>121047300</td>\n",
       "    </tr>\n",
       "    <tr>\n",
       "      <th>503</th>\n",
       "      <td>131.110805</td>\n",
       "      <td>130.758774</td>\n",
       "      <td>132.978509</td>\n",
       "      <td>130.445853</td>\n",
       "      <td>132.577585</td>\n",
       "      <td>96452100</td>\n",
       "    </tr>\n",
       "  </tbody>\n",
       "</table>\n",
       "<p>504 rows × 6 columns</p>\n",
       "</div>"
      ],
      "text/plain": [
       "         Target  Close_AAPL   High_AAPL    Low_AAPL   Open_AAPL  Volume_AAPL\n",
       "0     34.379953   37.708595   37.930665   36.827486   36.985083    148158800\n",
       "1     34.511292   33.952534   34.795437   33.907164   34.379953    365248800\n",
       "2     35.507026   35.401951   35.471200   34.336981   34.511292    234428400\n",
       "3     35.712376   35.323162   35.538069   34.838433   35.507026    219111200\n",
       "4     36.125461   35.996529   36.252028   35.464044   35.712376    164101200\n",
       "..          ...         ...         ...         ...         ...          ...\n",
       "499  128.411901  128.059906  129.497339  127.883884  129.233329     88223700\n",
       "500  131.022819  129.047501  130.504510  128.196772  128.411901     54930100\n",
       "501  134.992856  133.663025  134.298625  130.553438  131.022819    124486200\n",
       "502  132.577585  131.883270  135.716459  131.365008  134.992856    121047300\n",
       "503  131.110805  130.758774  132.978509  130.445853  132.577585     96452100\n",
       "\n",
       "[504 rows x 6 columns]"
      ]
     },
     "execution_count": 168,
     "metadata": {},
     "output_type": "execute_result"
    }
   ],
   "source": [
    "print(df_data.columns)\n",
    "\n",
    "# Use the function flatten_columns to flatten the MultiIndex to work with a single-level column index. \n",
    "df_data = flatten_columns(df_data)\n",
    "print(df_data.columns)\n",
    "\n",
    "# Use the function drop_unimportant_features to drop features that are not important for this tutorial as they do not influence the stock price much\n",
    "df_data = drop_unimportant_features(df_data, ['Date_'])\n",
    "print(df_data.columns)\n",
    "\n",
    "# Extract the features\n",
    "df_data_features = df_data.iloc[ :-1, :]  # This excludes the last sample from the data to consider the remaining as our features. \n",
    "print( df_data_features )\n",
    "\n",
    "# Take the open price column as our target \n",
    "df_data_targets = df_data.iloc[ 1:, 3].rename( \"Targets\" )\n",
    "print( df_data_targets )\n",
    "\n",
    "# Combine: assign the target column in the first column to satisfy XGBoost requirement\n",
    "df_data_features[ 'Target' ] =  list( df_data_targets )\n",
    "first_column = df_data_features.pop( 'Target' )\n",
    "df_data_features.insert( 0, 'Target', first_column)\n",
    "\n",
    "df_data_final = df_data_features\n",
    "df_data_final"
   ]
  },
  {
   "cell_type": "markdown",
   "id": "a89134e1-6eb1-4916-a7fa-ec6dd44dc6a2",
   "metadata": {},
   "source": [
    "### Randomply split the data into the training and test data"
   ]
  },
  {
   "cell_type": "code",
   "execution_count": 169,
   "id": "00101fe1-52e7-44d5-8f2b-8d9fa79f2dd5",
   "metadata": {},
   "outputs": [
    {
     "name": "stdout",
     "output_type": "stream",
     "text": [
      "(403, 6) (101, 6)\n"
     ]
    }
   ],
   "source": [
    "# Import the necessary package\n",
    "import numpy as np\n",
    "\n",
    "# Shuffle the rows to make the split random\n",
    "df_randomised = df_data_final.sample(frac = 1, random_state = 123)\n",
    "df_randomised\n",
    "\n",
    "# split the data randomly\n",
    "train_data, test_data = np.split( df_randomised, [int(0.8 * len(df_randomised))] )\n",
    "print(train_data.shape, test_data.shape)\n"
   ]
  },
  {
   "cell_type": "markdown",
   "id": "e8365b3d-1876-4633-bbe0-ddedc827a435",
   "metadata": {},
   "source": [
    "### Set a path and upload dataset to S3 bucket"
   ]
  },
  {
   "cell_type": "code",
   "execution_count": 170,
   "id": "08d07b2f-f072-4887-a51f-a551bac7219c",
   "metadata": {},
   "outputs": [
    {
     "name": "stdout",
     "output_type": "stream",
     "text": [
      "s3://stockpricetest-1736741960/xgboost-as-a-built-in-algo/train/train.csv\n",
      "s3://stockpricetest-1736741960/xgboost-as-a-built-in-algo/test/test.csv\n"
     ]
    }
   ],
   "source": [
    "import os\n",
    "\n",
    "# set file name base\n",
    "prefix = 'xgboost-as-a-built-in-algo'\n",
    "\n",
    "# set the path\n",
    "train_csv_path = 's3://{}/{}/{}/{}'.format(bucket_name, prefix, 'train', 'train.csv')  # The empty bracket set the space for each element in (bucket_name, prefix, 'train', 'train.csv')\n",
    "test_csv_path = 's3://{}/{}/{}/{}'.format(bucket_name, prefix, 'test', 'test.csv')\n",
    "\n",
    "print(train_csv_path)\n",
    "print(test_csv_path)\n",
    "\n",
    "# Save to S3 bucket\n",
    "train_data.to_csv(train_csv_path, index = False, header = False)\n",
    "test_data.to_csv(test_csv_path, index = False, header = False)\n",
    "\n",
    "# If you get a warning saying that \"Your installed version of s3fs is very old and known to cause severe performance issues\"\n",
    "# upgrade your s3fs as follows to solve the issue: '!pip install --upgrade s3fs'"
   ]
  },
  {
   "attachments": {},
   "cell_type": "markdown",
   "id": "623cfbec-bcbe-4ebd-bc0f-e23160ba1dca",
   "metadata": {},
   "source": [
    "## I.3) Build the XGBoost model\n",
    "\n",
    "XGBoost is a popular and efficient open-source implementation of the gradient-boosted trees algorithm. Gradient boosting is a supervised learning algorithm that tries to predict a target variable accurately by combining multiple estimates from a set of simpler models. \n",
    "\n",
    "There are two ways to use XGBoost in Amazon SageMaker AI, either \n",
    "* as a built-in algorithm that simplifies the process of training and deploying models through the use of a pre-built Docker container and a high-level SageMaker abstraction such as the Estimator class (similar to using a wrapper function). This requires minimal setup and is performed on SagemAker's infrastructure either on CPUs or GPUSs depending on the instance type selected. \n",
    "* or as a framework to run your custom training scripts developed on your local environments which SageMaker runs inside a containerised environment on its infrastructure. Here you control the training process, thus being more flexible. \n",
    "\n"
   ]
  },
  {
   "cell_type": "code",
   "execution_count": 171,
   "id": "e77724f2-56e1-4ab0-a5c8-01dfc8eed36a",
   "metadata": {},
   "outputs": [],
   "source": [
    "# Import required packages\n",
    "import sagemaker\n",
    "from sagemaker import image_uris\n",
    "from sagemaker.session import Session \n",
    "from sagemaker.inputs import TrainingInput"
   ]
  },
  {
   "cell_type": "markdown",
   "id": "601628d3-045c-4515-9b6e-0ab23617b52c",
   "metadata": {},
   "source": [
    "### Find the XGBoost image URI and build and XGBoost container\n",
    "More information about XGBoost in Amazon SageMaker can be found here https://docs.aws.amazon.com/sagemaker/latest/dg/xgboost.html. \n",
    "\n",
    "As part of this tutorial, we use XGBoost as a Built-in algorithm. "
   ]
  },
  {
   "cell_type": "code",
   "execution_count": 172,
   "id": "951ef191-e663-460f-94ae-ca943b93a2e3",
   "metadata": {},
   "outputs": [
    {
     "data": {
      "text/html": [
       "<pre style=\"white-space:pre;overflow-x:auto;line-height:normal;font-family:Menlo,'DejaVu Sans Mono',consolas,'Courier New',monospace\"><span style=\"color: #7fbfbf; text-decoration-color: #7fbfbf\">[01/15/25 05:14:43] </span><span style=\"color: #0069ff; text-decoration-color: #0069ff; font-weight: bold\">INFO    </span> Ignoring unnecessary instance type: <span style=\"color: #e100e1; text-decoration-color: #e100e1; font-style: italic\">None</span>.                            <a href=\"file:///home/ec2-user/anaconda3/envs/python3/lib/python3.10/site-packages/sagemaker/image_uris.py\" target=\"_blank\"><span style=\"color: #7f7f7f; text-decoration-color: #7f7f7f\">image_uris.py</span></a><span style=\"color: #7f7f7f; text-decoration-color: #7f7f7f\">:</span><a href=\"file:///home/ec2-user/anaconda3/envs/python3/lib/python3.10/site-packages/sagemaker/image_uris.py#528\" target=\"_blank\"><span style=\"color: #7f7f7f; text-decoration-color: #7f7f7f\">528</span></a>\n",
       "</pre>\n"
      ],
      "text/plain": [
       "\u001b[2;36m[01/15/25 05:14:43]\u001b[0m\u001b[2;36m \u001b[0m\u001b[1;38;2;0;105;255mINFO    \u001b[0m Ignoring unnecessary instance type: \u001b[3;38;2;225;0;225mNone\u001b[0m.                            \u001b]8;id=663131;file:///home/ec2-user/anaconda3/envs/python3/lib/python3.10/site-packages/sagemaker/image_uris.py\u001b\\\u001b[2mimage_uris.py\u001b[0m\u001b]8;;\u001b\\\u001b[2m:\u001b[0m\u001b]8;id=795118;file:///home/ec2-user/anaconda3/envs/python3/lib/python3.10/site-packages/sagemaker/image_uris.py#528\u001b\\\u001b[2m528\u001b[0m\u001b]8;;\u001b\\\n"
      ]
     },
     "metadata": {},
     "output_type": "display_data"
    },
    {
     "data": {
      "text/plain": [
       "'683313688378.dkr.ecr.us-east-1.amazonaws.com/sagemaker-xgboost:1.2-2'"
      ]
     },
     "metadata": {},
     "output_type": "display_data"
    }
   ],
   "source": [
    "xgboost_container = image_uris.retrieve(\"xgboost\", boto3.Session().region_name, \"1.2-2\")\n",
    "display(xgboost_container)"
   ]
  },
  {
   "cell_type": "markdown",
   "id": "84894c28-c9a4-4e1d-8644-43ee13fc0745",
   "metadata": {},
   "source": [
    "### Initialise Hyperparameters\n",
    "\n",
    "##### Booster Parameters\n",
    "These are parameters that influence the prediction performance of the model\n",
    "* **max_depth** - Maximum depth of a tree. A larger number makes the model more complex and might lead to model overfitting.\n",
    "* **eta** - Step size shrinkage used in updates or optimisation to prevent overfitting.\n",
    "* **gamma** - Minimum loss reduction required to make a further partition on a leaf node of the tree.\n",
    "* **min_child_weight** - Minimum sum of instance weight needed in a child. If the tree participation step results in a leaf node. \n",
    "* **subsample** - Subsample ratio of the training instances. A value of 0.5 means that XGBoost randomly collects half of the data instances to grow trees. This prevents overfitting. \n",
    "\n",
    "##### Learning task parameters\n",
    "**objective:** parameter which allows practitioners to specify the learning task and the corresponding learning objective. \n"
   ]
  },
  {
   "cell_type": "code",
   "execution_count": 173,
   "id": "13547baa-a213-4601-b82f-2995e9014808",
   "metadata": {},
   "outputs": [],
   "source": [
    "hyperparameters = {\n",
    "    \"max_depth\" : \"5\",\n",
    "    \"eta\" : \"0.2\",\n",
    "    \"gamma\" : \"4\",\n",
    "    \"min_child_weight\" : \"6\",\n",
    "    \"subsample\" : \"0.7\",\n",
    "    \"objective\" : \"reg:squarederror\",\n",
    "    \"early_stopping_rounds\" : 10,\n",
    "    \"num_round\" : 1000\n",
    "}"
   ]
  },
  {
   "cell_type": "markdown",
   "id": "73ca46e6-5faf-40c7-b5f4-bc7bfb6be7bc",
   "metadata": {},
   "source": [
    "#### Set an output path where the trained model would be saved\n",
    "Note that: \n",
    "* the first, **{}** is the bucket name\n",
    "* the second, **{}** is the prefix \n",
    "* and the last, **{}** is the output folder"
   ]
  },
  {
   "cell_type": "code",
   "execution_count": 174,
   "id": "62f5c063-f9bb-42c9-9cdf-c6ad20997605",
   "metadata": {},
   "outputs": [
    {
     "name": "stdout",
     "output_type": "stream",
     "text": [
      "s3://stockpricetest-1736741960/xgboost-as-a-built-in-algo/output/\n"
     ]
    }
   ],
   "source": [
    "output_path = 's3://{}/{}/{}/'.format(bucket_name, prefix, 'output')\n",
    "\n",
    "print( output_path )"
   ]
  },
  {
   "cell_type": "markdown",
   "id": "42c88143-ed9e-4fe5-8fb4-b2d261949d0c",
   "metadata": {},
   "source": [
    "#### Construct a SageMaker estimator that calls the XGBoost container\n",
    "\n",
    "Enable the spot instance argument **use_spot_instances**. A Spot Instance is an Amazon EC2 instance that uses spare computing capacity in AWS's data centers. They are available at significantly reduced costs (up to 90% cheaper than On-Demand instances)\n"
   ]
  },
  {
   "cell_type": "code",
   "execution_count": 175,
   "id": "b891898c-e620-4afb-a23d-97b11e24197c",
   "metadata": {},
   "outputs": [],
   "source": [
    "estimator = sagemaker.estimator.Estimator( image_uri = xgboost_container, \n",
    "                                          hyperparameters = hyperparameters,\n",
    "                                          role = sagemaker.get_execution_role(), \n",
    "                                          instance_count = 1,\n",
    "                                          instance_type = 'ml.m4.xlarge',  # surpisingly I could run with this instance type even though I select a different instance type when creating the notebook instance. \n",
    "                                          volume_size = 5,  # 5 GB\n",
    "                                          output_path = output_path,\n",
    "                                          use_spot_instances = True,   # Enable the use_spot_instances constructor arg\n",
    "                                          max_run = 300,               #timeout in secons for the model training\n",
    "                                          max_wait = 600,              # amount of time you are willing to wait for Spot infrastructure to become available\n",
    "                                         )"
   ]
  },
  {
   "cell_type": "markdown",
   "id": "8433af2e-35aa-4b07-8a07-bee0c40f67bd",
   "metadata": {},
   "source": [
    "#### Define the data type and paths to the training and validation datasets\n",
    "specify the paths where the training and test data should be taken from. "
   ]
  },
  {
   "cell_type": "code",
   "execution_count": 176,
   "id": "1f2d8c9b-44c6-4af0-9ee0-365d4b80df8a",
   "metadata": {},
   "outputs": [],
   "source": [
    "content_type = \"csv\"\n",
    "train_input = TrainingInput( \"s3://{}/{}/{}/\".format(bucket_name, prefix, 'train'), content_type = content_type)\n",
    "test_input = TrainingInput( \"s3://{}/{}/{}/\".format(bucket_name, prefix, 'test'), content_type = content_type)"
   ]
  },
  {
   "cell_type": "markdown",
   "id": "2106c709-28cc-49f5-8b9c-32da0b5562ab",
   "metadata": {},
   "source": [
    "#### Execute the XGBoost training job\n"
   ]
  },
  {
   "cell_type": "code",
   "execution_count": 177,
   "id": "e3b928c9-904c-42d5-9a9c-9cadb3f097f0",
   "metadata": {},
   "outputs": [
    {
     "data": {
      "text/html": [
       "<pre style=\"white-space:pre;overflow-x:auto;line-height:normal;font-family:Menlo,'DejaVu Sans Mono',consolas,'Courier New',monospace\"><span style=\"color: #7fbfbf; text-decoration-color: #7fbfbf\">[01/15/25 05:14:53] </span><span style=\"color: #0069ff; text-decoration-color: #0069ff; font-weight: bold\">INFO    </span> SageMaker Python SDK will collect telemetry to help us better  <a href=\"file:///home/ec2-user/anaconda3/envs/python3/lib/python3.10/site-packages/sagemaker/telemetry/telemetry_logging.py\" target=\"_blank\"><span style=\"color: #7f7f7f; text-decoration-color: #7f7f7f\">telemetry_logging.py</span></a><span style=\"color: #7f7f7f; text-decoration-color: #7f7f7f\">:</span><a href=\"file:///home/ec2-user/anaconda3/envs/python3/lib/python3.10/site-packages/sagemaker/telemetry/telemetry_logging.py#90\" target=\"_blank\"><span style=\"color: #7f7f7f; text-decoration-color: #7f7f7f\">90</span></a>\n",
       "<span style=\"color: #7fbfbf; text-decoration-color: #7fbfbf\">                    </span>         understand our user's needs, diagnose issues, and deliver      <span style=\"color: #7f7f7f; text-decoration-color: #7f7f7f\">                       </span>\n",
       "<span style=\"color: #7fbfbf; text-decoration-color: #7fbfbf\">                    </span>         additional features.                                           <span style=\"color: #7f7f7f; text-decoration-color: #7f7f7f\">                       </span>\n",
       "<span style=\"color: #7fbfbf; text-decoration-color: #7fbfbf\">                    </span>         To opt out of telemetry, please disable via TelemetryOptOut    <span style=\"color: #7f7f7f; text-decoration-color: #7f7f7f\">                       </span>\n",
       "<span style=\"color: #7fbfbf; text-decoration-color: #7fbfbf\">                    </span>         parameter in SDK defaults config. For more information, refer  <span style=\"color: #7f7f7f; text-decoration-color: #7f7f7f\">                       </span>\n",
       "<span style=\"color: #7fbfbf; text-decoration-color: #7fbfbf\">                    </span>         to                                                             <span style=\"color: #7f7f7f; text-decoration-color: #7f7f7f\">                       </span>\n",
       "<span style=\"color: #7fbfbf; text-decoration-color: #7fbfbf\">                    </span>         <span style=\"color: #0069ff; text-decoration-color: #0069ff; text-decoration: underline\">https://sagemaker.readthedocs.io/en/stable/overview.html#confi</span> <span style=\"color: #7f7f7f; text-decoration-color: #7f7f7f\">                       </span>\n",
       "<span style=\"color: #7fbfbf; text-decoration-color: #7fbfbf\">                    </span>         <span style=\"color: #0069ff; text-decoration-color: #0069ff; text-decoration: underline\">guring-and-using-defaults-with-the-sagemaker-python-sdk.</span>       <span style=\"color: #7f7f7f; text-decoration-color: #7f7f7f\">                       </span>\n",
       "</pre>\n"
      ],
      "text/plain": [
       "\u001b[2;36m[01/15/25 05:14:53]\u001b[0m\u001b[2;36m \u001b[0m\u001b[1;38;2;0;105;255mINFO    \u001b[0m SageMaker Python SDK will collect telemetry to help us better  \u001b]8;id=836932;file:///home/ec2-user/anaconda3/envs/python3/lib/python3.10/site-packages/sagemaker/telemetry/telemetry_logging.py\u001b\\\u001b[2mtelemetry_logging.py\u001b[0m\u001b]8;;\u001b\\\u001b[2m:\u001b[0m\u001b]8;id=811530;file:///home/ec2-user/anaconda3/envs/python3/lib/python3.10/site-packages/sagemaker/telemetry/telemetry_logging.py#90\u001b\\\u001b[2m90\u001b[0m\u001b]8;;\u001b\\\n",
       "\u001b[2;36m                    \u001b[0m         understand our user's needs, diagnose issues, and deliver      \u001b[2m                       \u001b[0m\n",
       "\u001b[2;36m                    \u001b[0m         additional features.                                           \u001b[2m                       \u001b[0m\n",
       "\u001b[2;36m                    \u001b[0m         To opt out of telemetry, please disable via TelemetryOptOut    \u001b[2m                       \u001b[0m\n",
       "\u001b[2;36m                    \u001b[0m         parameter in SDK defaults config. For more information, refer  \u001b[2m                       \u001b[0m\n",
       "\u001b[2;36m                    \u001b[0m         to                                                             \u001b[2m                       \u001b[0m\n",
       "\u001b[2;36m                    \u001b[0m         \u001b[4;38;2;0;105;255mhttps://sagemaker.readthedocs.io/en/stable/overview.html#confi\u001b[0m \u001b[2m                       \u001b[0m\n",
       "\u001b[2;36m                    \u001b[0m         \u001b[4;38;2;0;105;255mguring-and-using-defaults-with-the-sagemaker-python-sdk.\u001b[0m       \u001b[2m                       \u001b[0m\n"
      ]
     },
     "metadata": {},
     "output_type": "display_data"
    },
    {
     "data": {
      "text/html": [
       "<pre style=\"white-space:pre;overflow-x:auto;line-height:normal;font-family:Menlo,'DejaVu Sans Mono',consolas,'Courier New',monospace\"><span style=\"color: #7fbfbf; text-decoration-color: #7fbfbf\">                    </span><span style=\"color: #0069ff; text-decoration-color: #0069ff; font-weight: bold\">INFO    </span> Creating training-job with name:                                       <a href=\"file:///home/ec2-user/anaconda3/envs/python3/lib/python3.10/site-packages/sagemaker/session.py\" target=\"_blank\"><span style=\"color: #7f7f7f; text-decoration-color: #7f7f7f\">session.py</span></a><span style=\"color: #7f7f7f; text-decoration-color: #7f7f7f\">:</span><a href=\"file:///home/ec2-user/anaconda3/envs/python3/lib/python3.10/site-packages/sagemaker/session.py#1042\" target=\"_blank\"><span style=\"color: #7f7f7f; text-decoration-color: #7f7f7f\">1042</span></a>\n",
       "<span style=\"color: #7fbfbf; text-decoration-color: #7fbfbf\">                    </span>         sagemaker-xgboost-<span style=\"color: #008080; text-decoration-color: #008080; font-weight: bold\">2025</span>-01-15-05-14-53-360                              <span style=\"color: #7f7f7f; text-decoration-color: #7f7f7f\">               </span>\n",
       "</pre>\n"
      ],
      "text/plain": [
       "\u001b[2;36m                   \u001b[0m\u001b[2;36m \u001b[0m\u001b[1;38;2;0;105;255mINFO    \u001b[0m Creating training-job with name:                                       \u001b]8;id=505065;file:///home/ec2-user/anaconda3/envs/python3/lib/python3.10/site-packages/sagemaker/session.py\u001b\\\u001b[2msession.py\u001b[0m\u001b]8;;\u001b\\\u001b[2m:\u001b[0m\u001b]8;id=15059;file:///home/ec2-user/anaconda3/envs/python3/lib/python3.10/site-packages/sagemaker/session.py#1042\u001b\\\u001b[2m1042\u001b[0m\u001b]8;;\u001b\\\n",
       "\u001b[2;36m                    \u001b[0m         sagemaker-xgboost-\u001b[1;36m2025\u001b[0m-01-15-05-14-53-360                              \u001b[2m               \u001b[0m\n"
      ]
     },
     "metadata": {},
     "output_type": "display_data"
    },
    {
     "name": "stdout",
     "output_type": "stream",
     "text": [
      "2025-01-15 05:14:55 Starting - Starting the training job......\n",
      "..25-01-15 05:15:29 Starting - Preparing the instances for training.\n",
      "..25-01-15 05:16:24 Downloading - Downloading input data.\n",
      "........15 05:16:55 Downloading - Downloading the training image.\n",
      "2025-01-15 05:18:26 Training - Training image download completed. Training in progress.\n",
      "2025-01-15 05:18:26 Uploading - Uploading generated training model\u001b[34m[2025-01-15 05:18:18.482 ip-10-0-155-71.ec2.internal:7 INFO utils.py:27] RULE_JOB_STOP_SIGNAL_FILENAME: None\u001b[0m\n",
      "\u001b[34m[2025-01-15:05:18:18:INFO] Imported framework sagemaker_xgboost_container.training\u001b[0m\n",
      "\u001b[34m[2025-01-15:05:18:18:INFO] Failed to parse hyperparameter objective value reg:squarederror to Json.\u001b[0m\n",
      "\u001b[34mReturning the value itself\u001b[0m\n",
      "\u001b[34m[2025-01-15:05:18:18:INFO] No GPUs detected (normal if no gpus installed)\u001b[0m\n",
      "\u001b[34m[2025-01-15:05:18:18:INFO] Running XGBoost Sagemaker in algorithm mode\u001b[0m\n",
      "\u001b[34m[2025-01-15:05:18:18:INFO] Determined delimiter of CSV input is ','\u001b[0m\n",
      "\u001b[34m[2025-01-15:05:18:18:INFO] Determined delimiter of CSV input is ','\u001b[0m\n",
      "\u001b[34m[2025-01-15:05:18:18:INFO] Determined delimiter of CSV input is ','\u001b[0m\n",
      "\u001b[34m[2025-01-15:05:18:18:INFO] Determined delimiter of CSV input is ','\u001b[0m\n",
      "\u001b[34m[2025-01-15:05:18:18:INFO] Single node training.\u001b[0m\n",
      "\u001b[34m[2025-01-15:05:18:18:INFO] Train matrix has 403 rows and 5 columns\u001b[0m\n",
      "\u001b[34m[2025-01-15:05:18:18:INFO] Validation matrix has 101 rows\u001b[0m\n",
      "\u001b[34m[2025-01-15 05:18:18.582 ip-10-0-155-71.ec2.internal:7 INFO json_config.py:91] Creating hook from json_config at /opt/ml/input/config/debughookconfig.json.\u001b[0m\n",
      "\u001b[34m[2025-01-15 05:18:18.582 ip-10-0-155-71.ec2.internal:7 INFO hook.py:201] tensorboard_dir has not been set for the hook. SMDebug will not be exporting tensorboard summaries.\u001b[0m\n",
      "\u001b[34m[2025-01-15 05:18:18.583 ip-10-0-155-71.ec2.internal:7 INFO profiler_config_parser.py:102] User has disabled profiler.\u001b[0m\n",
      "\u001b[34m[2025-01-15 05:18:18.584 ip-10-0-155-71.ec2.internal:7 INFO hook.py:255] Saving to /opt/ml/output/tensors\u001b[0m\n",
      "\u001b[34m[2025-01-15 05:18:18.584 ip-10-0-155-71.ec2.internal:7 INFO state_store.py:77] The checkpoint config file /opt/ml/input/config/checkpointconfig.json does not exist.\u001b[0m\n",
      "\u001b[34m[2025-01-15:05:18:18:INFO] Debug hook created from config\u001b[0m\n",
      "\u001b[34m[0]#011train-rmse:61.28144#011validation-rmse:60.86986\u001b[0m\n",
      "\u001b[34m[2025-01-15 05:18:18.587 ip-10-0-155-71.ec2.internal:7 INFO hook.py:423] Monitoring the collections: metrics\u001b[0m\n",
      "\u001b[34m[2025-01-15 05:18:18.590 ip-10-0-155-71.ec2.internal:7 INFO hook.py:486] Hook is writing from the hook with pid: 7\u001b[0m\n",
      "\u001b[34m[1]#011train-rmse:49.34111#011validation-rmse:49.28068\u001b[0m\n",
      "\u001b[34m[2]#011train-rmse:39.77852#011validation-rmse:39.94577\u001b[0m\n",
      "\u001b[34m[3]#011train-rmse:31.99343#011validation-rmse:32.28762\u001b[0m\n",
      "\u001b[34m[4]#011train-rmse:25.86226#011validation-rmse:26.28363\u001b[0m\n",
      "\u001b[34m[5]#011train-rmse:20.84727#011validation-rmse:21.26273\u001b[0m\n",
      "\u001b[34m[6]#011train-rmse:16.80848#011validation-rmse:17.17761\u001b[0m\n",
      "\u001b[34m[7]#011train-rmse:13.59003#011validation-rmse:13.99760\u001b[0m\n",
      "\u001b[34m[8]#011train-rmse:10.98818#011validation-rmse:11.42931\u001b[0m\n",
      "\u001b[34m[9]#011train-rmse:8.88879#011validation-rmse:9.38275\u001b[0m\n",
      "\u001b[34m[10]#011train-rmse:7.22249#011validation-rmse:7.72462\u001b[0m\n",
      "\u001b[34m[11]#011train-rmse:5.86087#011validation-rmse:6.38696\u001b[0m\n",
      "\u001b[34m[12]#011train-rmse:4.81197#011validation-rmse:5.37141\u001b[0m\n",
      "\u001b[34m[13]#011train-rmse:3.98799#011validation-rmse:4.59819\u001b[0m\n",
      "\u001b[34m[14]#011train-rmse:3.31180#011validation-rmse:3.92286\u001b[0m\n",
      "\u001b[34m[15]#011train-rmse:2.77666#011validation-rmse:3.42413\u001b[0m\n",
      "\u001b[34m[16]#011train-rmse:2.32968#011validation-rmse:2.95339\u001b[0m\n",
      "\u001b[34m[17]#011train-rmse:2.00779#011validation-rmse:2.63841\u001b[0m\n",
      "\u001b[34m[18]#011train-rmse:1.77955#011validation-rmse:2.45431\u001b[0m\n",
      "\u001b[34m[19]#011train-rmse:1.57524#011validation-rmse:2.24806\u001b[0m\n",
      "\u001b[34m[20]#011train-rmse:1.42865#011validation-rmse:2.10449\u001b[0m\n",
      "\u001b[34m[21]#011train-rmse:1.31430#011validation-rmse:1.96404\u001b[0m\n",
      "\u001b[34m[22]#011train-rmse:1.23148#011validation-rmse:1.87378\u001b[0m\n",
      "\u001b[34m[23]#011train-rmse:1.16789#011validation-rmse:1.80441\u001b[0m\n",
      "\u001b[34m[24]#011train-rmse:1.11658#011validation-rmse:1.73780\u001b[0m\n",
      "\u001b[34m[25]#011train-rmse:1.09047#011validation-rmse:1.70104\u001b[0m\n",
      "\u001b[34m[26]#011train-rmse:1.06365#011validation-rmse:1.69861\u001b[0m\n",
      "\u001b[34m[27]#011train-rmse:1.04187#011validation-rmse:1.66132\u001b[0m\n",
      "\u001b[34m[28]#011train-rmse:1.01343#011validation-rmse:1.62390\u001b[0m\n",
      "\u001b[34m[29]#011train-rmse:1.01005#011validation-rmse:1.62073\u001b[0m\n",
      "\u001b[34m[30]#011train-rmse:0.99408#011validation-rmse:1.62977\u001b[0m\n",
      "\u001b[34m[31]#011train-rmse:0.98496#011validation-rmse:1.60630\u001b[0m\n",
      "\u001b[34m[32]#011train-rmse:0.96693#011validation-rmse:1.61763\u001b[0m\n",
      "\u001b[34m[33]#011train-rmse:0.96492#011validation-rmse:1.60839\u001b[0m\n",
      "\u001b[34m[34]#011train-rmse:0.95606#011validation-rmse:1.60629\u001b[0m\n",
      "\u001b[34m[35]#011train-rmse:0.94261#011validation-rmse:1.61190\u001b[0m\n",
      "\u001b[34m[36]#011train-rmse:0.93279#011validation-rmse:1.59593\u001b[0m\n",
      "\u001b[34m[37]#011train-rmse:0.92763#011validation-rmse:1.60277\u001b[0m\n",
      "\u001b[34m[38]#011train-rmse:0.91848#011validation-rmse:1.58746\u001b[0m\n",
      "\u001b[34m[39]#011train-rmse:0.91033#011validation-rmse:1.58131\u001b[0m\n",
      "\u001b[34m[40]#011train-rmse:0.91043#011validation-rmse:1.58787\u001b[0m\n",
      "\u001b[34m[41]#011train-rmse:0.90728#011validation-rmse:1.59222\u001b[0m\n",
      "\u001b[34m[42]#011train-rmse:0.90155#011validation-rmse:1.59869\u001b[0m\n",
      "\u001b[34m[43]#011train-rmse:0.89959#011validation-rmse:1.58033\u001b[0m\n",
      "\u001b[34m[44]#011train-rmse:0.88567#011validation-rmse:1.58403\u001b[0m\n",
      "\u001b[34m[45]#011train-rmse:0.88011#011validation-rmse:1.57099\u001b[0m\n",
      "\u001b[34m[46]#011train-rmse:0.87469#011validation-rmse:1.55711\u001b[0m\n",
      "\u001b[34m[47]#011train-rmse:0.86389#011validation-rmse:1.55371\u001b[0m\n",
      "\u001b[34m[48]#011train-rmse:0.85716#011validation-rmse:1.57104\u001b[0m\n",
      "\u001b[34m[49]#011train-rmse:0.85350#011validation-rmse:1.55413\u001b[0m\n",
      "\u001b[34m[50]#011train-rmse:0.84972#011validation-rmse:1.56422\u001b[0m\n",
      "\u001b[34m[51]#011train-rmse:0.84595#011validation-rmse:1.55422\u001b[0m\n",
      "\u001b[34m[52]#011train-rmse:0.84513#011validation-rmse:1.55450\u001b[0m\n",
      "\u001b[34m[53]#011train-rmse:0.84506#011validation-rmse:1.55505\u001b[0m\n",
      "\u001b[34m[54]#011train-rmse:0.84481#011validation-rmse:1.56831\u001b[0m\n",
      "\u001b[34m[55]#011train-rmse:0.84322#011validation-rmse:1.58464\u001b[0m\n",
      "\u001b[34m[56]#011train-rmse:0.83658#011validation-rmse:1.58545\u001b[0m\n",
      "\u001b[34m[57]#011train-rmse:0.83664#011validation-rmse:1.58499\u001b[0m\n",
      "\n",
      "2025-01-15 05:18:39 Completed - Training job completed\n",
      "Training seconds: 135\n",
      "Billable seconds: 55\n",
      "Managed Spot Training savings: 59.3%\n"
     ]
    }
   ],
   "source": [
    "estimator.fit( {'train' : train_input, 'validation' : test_input} )"
   ]
  },
  {
   "cell_type": "markdown",
   "id": "0aaf4077-78c5-4752-9650-f9b92ebd0936",
   "metadata": {},
   "source": [
    "# II) Deploy and test the Amazon SageMaker model endpoint"
   ]
  },
  {
   "cell_type": "markdown",
   "id": "814f3c84-3389-417d-b447-4240c1c6bd5f",
   "metadata": {},
   "source": [
    "## II.1) Deploy trained XGB model as Endpoint\n",
    "\n",
    "1. Environment\n",
    "i.e. in which environment do we want to make the predictions or inferences? \n",
    "> Within SageMaker - then do Serialization by User <br>\n",
    "> **Outside SageMaker - Serialization by Endpoint**\n",
    "\n",
    "2. Method to invoke the endpoint\n",
    "i.e. how do we want to invoke the Endpoint?\n",
    "> **Through an API - suitable for a single prediction using the Amazon API Gateway** <br>\n",
    "> Through a S3 Bucket - suitable for Batch prediction\n",
    "\n",
    "4. Data type based on method\n",
    "i.e. what data type format should we use to invoke the Endpoint? In other words, in which file format should the unseen data be saved to invoke the EndPoint? \n",
    "> **API - JSON** is suitable when the prediction is done outside of SageMaker - invoked by a customer request. <br>\n",
    "> S3 Bucket - CSV - invoked internally by the practitioner. "
   ]
  },
  {
   "cell_type": "markdown",
   "id": "70a2fd57-ca08-4967-9da0-9cb7c4e458be",
   "metadata": {},
   "source": [
    "To host and deploy the trained model, estimator, fitted earlier, through Amazon EC2 using Amazon SageMaker, we call the **deploy** method of the **xgb_model estimator**.\n",
    "\n",
    "A few things need to be specified when you call the deploy method: \n",
    "> **initial_instance_count (int)** - The number of instances to deploy the model <br>\n",
    "\n",
    "> **instance_type (str)** - The type of instances or computational power that you want to operate your deployed model. <br>\n",
    "\n",
    "> **serializer (int)** - Serialize input data of various formats (a numpy array, list, file, or buffer) to a CSV-formatted string. We use this because the XGBoost algorithm accepts input files in CSV format\n",
    "\n",
    "\n"
   ]
  },
  {
   "cell_type": "markdown",
   "id": "3915542c-1371-4f34-90b3-aeb6a4a9f929",
   "metadata": {},
   "source": [
    "References: \n",
    "\n",
    "https://sagemaker.readthedocs.io/en/stable/api/training/estimators.html <br>\n",
    "https://docs.aws.amazon.com/sagemaker/latest/dg/ex1-model-deployment.html "
   ]
  },
  {
   "cell_type": "code",
   "execution_count": 204,
   "id": "39c2a01a-85e7-49ad-aa8e-ae763da7f6b8",
   "metadata": {},
   "outputs": [
    {
     "data": {
      "text/html": [
       "<pre style=\"white-space:pre;overflow-x:auto;line-height:normal;font-family:Menlo,'DejaVu Sans Mono',consolas,'Courier New',monospace\"><span style=\"color: #7fbfbf; text-decoration-color: #7fbfbf\">[01/15/25 06:01:59] </span><span style=\"color: #0069ff; text-decoration-color: #0069ff; font-weight: bold\">INFO    </span> Creating model with name: sagemaker-xgboost-<span style=\"color: #008080; text-decoration-color: #008080; font-weight: bold\">2025</span>-01-15-06-01-59-668    <a href=\"file:///home/ec2-user/anaconda3/envs/python3/lib/python3.10/site-packages/sagemaker/session.py\" target=\"_blank\"><span style=\"color: #7f7f7f; text-decoration-color: #7f7f7f\">session.py</span></a><span style=\"color: #7f7f7f; text-decoration-color: #7f7f7f\">:</span><a href=\"file:///home/ec2-user/anaconda3/envs/python3/lib/python3.10/site-packages/sagemaker/session.py#4094\" target=\"_blank\"><span style=\"color: #7f7f7f; text-decoration-color: #7f7f7f\">4094</span></a>\n",
       "</pre>\n"
      ],
      "text/plain": [
       "\u001b[2;36m[01/15/25 06:01:59]\u001b[0m\u001b[2;36m \u001b[0m\u001b[1;38;2;0;105;255mINFO    \u001b[0m Creating model with name: sagemaker-xgboost-\u001b[1;36m2025\u001b[0m-01-15-06-01-59-668    \u001b]8;id=85512;file:///home/ec2-user/anaconda3/envs/python3/lib/python3.10/site-packages/sagemaker/session.py\u001b\\\u001b[2msession.py\u001b[0m\u001b]8;;\u001b\\\u001b[2m:\u001b[0m\u001b]8;id=292983;file:///home/ec2-user/anaconda3/envs/python3/lib/python3.10/site-packages/sagemaker/session.py#4094\u001b\\\u001b[2m4094\u001b[0m\u001b]8;;\u001b\\\n"
      ]
     },
     "metadata": {},
     "output_type": "display_data"
    },
    {
     "data": {
      "text/html": [
       "<pre style=\"white-space:pre;overflow-x:auto;line-height:normal;font-family:Menlo,'DejaVu Sans Mono',consolas,'Courier New',monospace\"><span style=\"color: #7fbfbf; text-decoration-color: #7fbfbf\">[01/15/25 06:02:00] </span><span style=\"color: #0069ff; text-decoration-color: #0069ff; font-weight: bold\">INFO    </span> Creating endpoint-config with name                                     <a href=\"file:///home/ec2-user/anaconda3/envs/python3/lib/python3.10/site-packages/sagemaker/session.py\" target=\"_blank\"><span style=\"color: #7f7f7f; text-decoration-color: #7f7f7f\">session.py</span></a><span style=\"color: #7f7f7f; text-decoration-color: #7f7f7f\">:</span><a href=\"file:///home/ec2-user/anaconda3/envs/python3/lib/python3.10/site-packages/sagemaker/session.py#5889\" target=\"_blank\"><span style=\"color: #7f7f7f; text-decoration-color: #7f7f7f\">5889</span></a>\n",
       "<span style=\"color: #7fbfbf; text-decoration-color: #7fbfbf\">                    </span>         sagemaker-xgboost-<span style=\"color: #008080; text-decoration-color: #008080; font-weight: bold\">2025</span>-01-15-06-01-59-668                              <span style=\"color: #7f7f7f; text-decoration-color: #7f7f7f\">               </span>\n",
       "</pre>\n"
      ],
      "text/plain": [
       "\u001b[2;36m[01/15/25 06:02:00]\u001b[0m\u001b[2;36m \u001b[0m\u001b[1;38;2;0;105;255mINFO    \u001b[0m Creating endpoint-config with name                                     \u001b]8;id=179623;file:///home/ec2-user/anaconda3/envs/python3/lib/python3.10/site-packages/sagemaker/session.py\u001b\\\u001b[2msession.py\u001b[0m\u001b]8;;\u001b\\\u001b[2m:\u001b[0m\u001b]8;id=765531;file:///home/ec2-user/anaconda3/envs/python3/lib/python3.10/site-packages/sagemaker/session.py#5889\u001b\\\u001b[2m5889\u001b[0m\u001b]8;;\u001b\\\n",
       "\u001b[2;36m                    \u001b[0m         sagemaker-xgboost-\u001b[1;36m2025\u001b[0m-01-15-06-01-59-668                              \u001b[2m               \u001b[0m\n"
      ]
     },
     "metadata": {},
     "output_type": "display_data"
    },
    {
     "data": {
      "text/html": [
       "<pre style=\"white-space:pre;overflow-x:auto;line-height:normal;font-family:Menlo,'DejaVu Sans Mono',consolas,'Courier New',monospace\"><span style=\"color: #7fbfbf; text-decoration-color: #7fbfbf\">                    </span><span style=\"color: #0069ff; text-decoration-color: #0069ff; font-weight: bold\">INFO    </span> Creating endpoint with name sagemaker-xgboost-<span style=\"color: #008080; text-decoration-color: #008080; font-weight: bold\">2025</span>-01-15-06-01-59-668  <a href=\"file:///home/ec2-user/anaconda3/envs/python3/lib/python3.10/site-packages/sagemaker/session.py\" target=\"_blank\"><span style=\"color: #7f7f7f; text-decoration-color: #7f7f7f\">session.py</span></a><span style=\"color: #7f7f7f; text-decoration-color: #7f7f7f\">:</span><a href=\"file:///home/ec2-user/anaconda3/envs/python3/lib/python3.10/site-packages/sagemaker/session.py#4711\" target=\"_blank\"><span style=\"color: #7f7f7f; text-decoration-color: #7f7f7f\">4711</span></a>\n",
       "</pre>\n"
      ],
      "text/plain": [
       "\u001b[2;36m                   \u001b[0m\u001b[2;36m \u001b[0m\u001b[1;38;2;0;105;255mINFO    \u001b[0m Creating endpoint with name sagemaker-xgboost-\u001b[1;36m2025\u001b[0m-01-15-06-01-59-668  \u001b]8;id=934256;file:///home/ec2-user/anaconda3/envs/python3/lib/python3.10/site-packages/sagemaker/session.py\u001b\\\u001b[2msession.py\u001b[0m\u001b]8;;\u001b\\\u001b[2m:\u001b[0m\u001b]8;id=590091;file:///home/ec2-user/anaconda3/envs/python3/lib/python3.10/site-packages/sagemaker/session.py#4711\u001b\\\u001b[2m4711\u001b[0m\u001b]8;;\u001b\\\n"
      ]
     },
     "metadata": {},
     "output_type": "display_data"
    },
    {
     "name": "stdout",
     "output_type": "stream",
     "text": [
      "----------!"
     ]
    }
   ],
   "source": [
    "from sagemaker.serializers import CSVSerializer\n",
    "\n",
    "xgb_predictor = estimator.deploy( initial_instance_count = 1, instance_type = 'ml.m4.xlarge', serializer = CSVSerializer() )  \n",
    "\n",
    "# We use CSVSerializer because our model was trained using csv format training data. Thus the CSVSerializer will convert any data provided by teh customer into CSV format"
   ]
  },
  {
   "cell_type": "code",
   "execution_count": 205,
   "id": "38468b08-d179-404a-8e66-653b7df4c31f",
   "metadata": {},
   "outputs": [
    {
     "data": {
      "text/plain": [
       "'sagemaker-xgboost-2025-01-15-06-01-59-668'"
      ]
     },
     "execution_count": 205,
     "metadata": {},
     "output_type": "execute_result"
    }
   ],
   "source": [
    "# See the Endpoint name\n",
    "xgb_predictor.endpoint_name\n",
    "\n",
    "name = 'sagemaker-xgboost-2025-01-15-06-01-59-668'"
   ]
  },
  {
   "cell_type": "markdown",
   "id": "13237753-6d5d-47ec-9869-62821e4b59c9",
   "metadata": {},
   "source": [
    "## II.2) Make prediction with the use of Endpoint"
   ]
  },
  {
   "cell_type": "code",
   "execution_count": 212,
   "id": "b21d2668-42b1-4ad1-bfbc-e8e16b294f05",
   "metadata": {},
   "outputs": [
    {
     "name": "stderr",
     "output_type": "stream",
     "text": [
      "[*********************100%***********************]  1 of 1 completed"
     ]
    },
    {
     "name": "stdout",
     "output_type": "stream",
     "text": [
      "Price        Date       Close        High        Low        Open     Volume\n",
      "Ticker                   AAPL        AAPL       AAPL        AAPL       AAPL\n",
      "0      2021-01-04  126.544228  130.651216  123.95291  130.563213  143301900\n"
     ]
    },
    {
     "name": "stderr",
     "output_type": "stream",
     "text": [
      "\n"
     ]
    }
   ],
   "source": [
    "# initialise parameters \n",
    "start_date = datetime( 2021, 1, 4)\n",
    "end_date = datetime(2021, 1, 5)\n",
    "\n",
    "# get the data\n",
    "df_data = yf.download( 'AAPL', start = start_date, end = end_date)\n",
    "df_data.reset_index(inplace = True)\n",
    "print( df_data )\n",
    "\n"
   ]
  },
  {
   "cell_type": "markdown",
   "id": "d46aab65-4db3-4632-a1e3-22af5ead9728",
   "metadata": {},
   "source": [
    "#### Prepare the data features"
   ]
  },
  {
   "cell_type": "code",
   "execution_count": 213,
   "id": "d39d3437-c0a3-405f-aa93-b08a08af3db1",
   "metadata": {},
   "outputs": [
    {
     "name": "stdout",
     "output_type": "stream",
     "text": [
      "   Close_AAPL   High_AAPL   Low_AAPL   Open_AAPL  Volume_AAPL\n",
      "0  126.544228  130.651216  123.95291  130.563213    143301900\n",
      "[[1.26544228e+02 1.30651216e+02 1.23952910e+02 1.30563213e+02\n",
      "  1.43301900e+08]]\n"
     ]
    }
   ],
   "source": [
    "# Use the function \"flatten_columns\" to flatten the MultiIndex to work with a single-level column index. \n",
    "df_data = flatten_columns(df_data)\n",
    "\n",
    "# use the function \"drop_unimportant_features\" to drop features that are not important. \n",
    "df_data = drop_unimportant_features(df_data, ['Date_'])\n",
    "\n",
    "print( df_data ) \n",
    "\n",
    "# extract the feature array\n",
    "data_features_array = df_data.values\n",
    "print(data_features_array)"
   ]
  },
  {
   "cell_type": "markdown",
   "id": "7b06fd07-388f-4bf9-8521-c31b87a36a44",
   "metadata": {},
   "source": [
    "#### Serialise the data"
   ]
  },
  {
   "cell_type": "markdown",
   "id": "3cffc399-9a2f-4d44-9663-246f0b6028f3",
   "metadata": {},
   "source": [
    "##### Inference - Serialised input SageMaker Function\n",
    "\n",
    "There is no need to serialize the feature arrays as the serializer was specified when creating the endpoint for deployment. "
   ]
  },
  {
   "cell_type": "code",
   "execution_count": 208,
   "id": "b99e5005-5fd5-4a65-b691-002cb5ad7297",
   "metadata": {},
   "outputs": [
    {
     "name": "stdout",
     "output_type": "stream",
     "text": [
      "128.8832550048828\n",
      " <class 'str'>\n"
     ]
    }
   ],
   "source": [
    "Y_pred_Fcn = xgb_predictor.predict( data_features_array ).decode('utf-8')  # decode('utf-8') convert from bytes to string data type\n",
    "print( Y_pred_Fcn, type(Y_pred_Fcn) ) "
   ]
  },
  {
   "cell_type": "markdown",
   "id": "0fd4a89a-0901-4e5f-b242-5fb45df39ef9",
   "metadata": {},
   "source": [
    "##### Inference - Serialised Input by built-in function (Lambda function friendly)\n",
    "Serialise the input using another method. "
   ]
  },
  {
   "cell_type": "code",
   "execution_count": 210,
   "id": "4bc9de95-312f-478a-8b4c-4817844a2130",
   "metadata": {},
   "outputs": [
    {
     "name": "stdout",
     "output_type": "stream",
     "text": [
      "126.544228,130.651216,123.95291,130.563213,143301900 <class 'str'>\n",
      "128.8832550048828\n",
      " <class 'str'>\n"
     ]
    }
   ],
   "source": [
    "Input = [[126.544228, 130.651216, 123.95291, 130.563213, 143301900],\n",
    "         [126.544228, 130.651216, 123.95291, 130.563213, 143301900],\n",
    "         [126.544228, 130.651216, 123.95291, 130.563213, 143301900]]\n",
    "\n",
    "serialized_input = ','.join(map(str, Input[0]))\n",
    "\n",
    "print( serialized_input, type(serialized_input) ) \n",
    "\n",
    "Y_pred = xgb_predictor.predict( serialized_input ).decode('utf-8')  # decode('utf-8') convert from bytes to string data type\n",
    "print( Y_pred, type(Y_pred) ) "
   ]
  },
  {
   "cell_type": "markdown",
   "id": "274a9f99-1c2d-4ef2-959d-0c3915addb89",
   "metadata": {},
   "source": [
    "##### Inference - Create an AWS Lambda function (Base)\n",
    "\n",
    "How to build and set up the Lambda function in the AWS environment to connect to this endpoint. "
   ]
  },
  {
   "cell_type": "code",
   "execution_count": null,
   "id": "836884ef-80db-423c-84d8-fecad06b760c",
   "metadata": {},
   "outputs": [],
   "source": []
  },
  {
   "cell_type": "code",
   "execution_count": null,
   "id": "344b0826-2dc7-4a32-8c14-efaa191fad61",
   "metadata": {},
   "outputs": [],
   "source": []
  }
 ],
 "metadata": {
  "kernelspec": {
   "display_name": "conda_python3",
   "language": "python",
   "name": "conda_python3"
  },
  "language_info": {
   "codemirror_mode": {
    "name": "ipython",
    "version": 3
   },
   "file_extension": ".py",
   "mimetype": "text/x-python",
   "name": "python",
   "nbconvert_exporter": "python",
   "pygments_lexer": "ipython3",
   "version": "3.10.16"
  }
 },
 "nbformat": 4,
 "nbformat_minor": 5
}
